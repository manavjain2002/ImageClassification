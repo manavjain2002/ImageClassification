{
 "cells": [
  {
   "cell_type": "code",
   "execution_count": 1,
   "metadata": {},
   "outputs": [],
   "source": [
    "import numpy as np\n",
    "import pandas as pd\n",
    "import matplotlib.pyplot as plt\n",
    "import seaborn as sns\n",
    "import tensorflow as tf\n",
    "from tensorflow import keras"
   ]
  },
  {
   "cell_type": "code",
   "execution_count": 2,
   "metadata": {},
   "outputs": [],
   "source": [
    "train_dir = 'C:/Users/Manav/PycharmProjects/Deep Learning/Neural Networks/CNN/train'\n",
    "test_dir = 'C:/Users/Manav/PycharmProjects/Deep Learning/Neural Networks/CNN/test'\n",
    "validation_dir = 'C:/Users/Manav/PycharmProjects/Deep Learning/Neural Networks/CNN/validation'"
   ]
  },
  {
   "cell_type": "markdown",
   "metadata": {},
   "source": [
    "# Data Preprocessing\n",
    " \n",
    " 1)Read the picture files.\n",
    " \n",
    " 2)Decode the JPEG content to RBG grids of pixels.\n",
    " \n",
    " 3)Convert these into floating point tensors.\n",
    " \n",
    " 4)Rescale the pixel values (between 0 and 255) to [0,1] interval."
   ]
  },
  {
   "cell_type": "code",
   "execution_count": 3,
   "metadata": {},
   "outputs": [],
   "source": [
    "from tensorflow.keras.preprocessing.image import ImageDataGenerator"
   ]
  },
  {
   "cell_type": "code",
   "execution_count": 4,
   "metadata": {},
   "outputs": [],
   "source": [
    "# Generating badges of tensor image data"
   ]
  },
  {
   "cell_type": "code",
   "execution_count": 5,
   "metadata": {},
   "outputs": [],
   "source": [
    "train_datagen = ImageDataGenerator(rescale=1./255)\n",
    "test_datagen = ImageDataGenerator(rescale=1./255)\n"
   ]
  },
  {
   "cell_type": "code",
   "execution_count": 6,
   "metadata": {},
   "outputs": [
    {
     "name": "stdout",
     "output_type": "stream",
     "text": [
      "Found 2000 images belonging to 2 classes.\n",
      "Found 1000 images belonging to 2 classes.\n",
      "<tensorflow.python.keras.preprocessing.image.DirectoryIterator object at 0x000001FE5C3B1C70>\n",
      "<tensorflow.python.keras.preprocessing.image.DirectoryIterator object at 0x000001FE5C3B1D30>\n"
     ]
    }
   ],
   "source": [
    "train_generator = train_datagen.flow_from_directory(\n",
    "                    train_dir,\n",
    "                    target_size=(150,150),\n",
    "                    batch_size=20,\n",
    "                    class_mode='binary'\n",
    ")\n",
    "\n",
    "validation_generator =test_datagen.flow_from_directory(\n",
    "                    validation_dir,\n",
    "                    target_size=(150,150),\n",
    "                    batch_size=20,\n",
    "                    class_mode='binary'\n",
    ")\n",
    "print(train_generator)\n",
    "print(validation_generator)"
   ]
  },
  {
   "cell_type": "markdown",
   "metadata": {},
   "source": [
    "# Training Model"
   ]
  },
  {
   "cell_type": "code",
   "execution_count": 7,
   "metadata": {},
   "outputs": [],
   "source": [
    "model = keras.models.Sequential()"
   ]
  },
  {
   "cell_type": "code",
   "execution_count": 8,
   "metadata": {},
   "outputs": [],
   "source": [
    "model.add(keras.layers.Conv2D(32,(3,3),activation='relu',input_shape=(150,150,3)))\n",
    "model.add(keras.layers.MaxPooling2D((2,2)))\n",
    "\n",
    "model.add(keras.layers.Conv2D(64,(3,3),activation='relu'))\n",
    "model.add(keras.layers.MaxPooling2D((2,2)))\n",
    "\n",
    "model.add(keras.layers.Conv2D(128,(3,3),activation='relu'))\n",
    "model.add(keras.layers.MaxPooling2D((2,2)))\n",
    "\n",
    "model.add(keras.layers.Conv2D(128,(3,3),activation='relu'))\n",
    "model.add(keras.layers.MaxPooling2D((2,2)))\n",
    "\n",
    "model.add(keras.layers.Flatten())\n",
    "\n",
    "model.add(keras.layers.Dense(512,activation='relu'))\n",
    "model.add(keras.layers.Dense(1,activation='sigmoid'))"
   ]
  },
  {
   "cell_type": "code",
   "execution_count": 9,
   "metadata": {},
   "outputs": [
    {
     "name": "stdout",
     "output_type": "stream",
     "text": [
      "Model: \"sequential\"\n",
      "_________________________________________________________________\n",
      "Layer (type)                 Output Shape              Param #   \n",
      "=================================================================\n",
      "conv2d (Conv2D)              (None, 148, 148, 32)      896       \n",
      "_________________________________________________________________\n",
      "max_pooling2d (MaxPooling2D) (None, 74, 74, 32)        0         \n",
      "_________________________________________________________________\n",
      "conv2d_1 (Conv2D)            (None, 72, 72, 64)        18496     \n",
      "_________________________________________________________________\n",
      "max_pooling2d_1 (MaxPooling2 (None, 36, 36, 64)        0         \n",
      "_________________________________________________________________\n",
      "conv2d_2 (Conv2D)            (None, 34, 34, 128)       73856     \n",
      "_________________________________________________________________\n",
      "max_pooling2d_2 (MaxPooling2 (None, 17, 17, 128)       0         \n",
      "_________________________________________________________________\n",
      "conv2d_3 (Conv2D)            (None, 15, 15, 128)       147584    \n",
      "_________________________________________________________________\n",
      "max_pooling2d_3 (MaxPooling2 (None, 7, 7, 128)         0         \n",
      "_________________________________________________________________\n",
      "flatten (Flatten)            (None, 6272)              0         \n",
      "_________________________________________________________________\n",
      "dense (Dense)                (None, 512)               3211776   \n",
      "_________________________________________________________________\n",
      "dense_1 (Dense)              (None, 1)                 513       \n",
      "=================================================================\n",
      "Total params: 3,453,121\n",
      "Trainable params: 3,453,121\n",
      "Non-trainable params: 0\n",
      "_________________________________________________________________\n"
     ]
    }
   ],
   "source": [
    "model.summary()"
   ]
  },
  {
   "cell_type": "code",
   "execution_count": 10,
   "metadata": {},
   "outputs": [],
   "source": [
    "model.compile(loss = 'binary_crossentropy',optimizer = keras.optimizers.RMSprop(learning_rate=1e-4),metrics = ['acc'])"
   ]
  },
  {
   "cell_type": "code",
   "execution_count": 11,
   "metadata": {},
   "outputs": [
    {
     "name": "stdout",
     "output_type": "stream",
     "text": [
      "Epoch 1/20\n",
      "20/20 [==============================] - 12s 560ms/step - loss: 0.7037 - acc: 0.5025 - val_loss: 0.7059 - val_acc: 0.5000\n",
      "Epoch 2/20\n",
      "20/20 [==============================] - 11s 579ms/step - loss: 0.6903 - acc: 0.5350 - val_loss: 0.6946 - val_acc: 0.5020\n",
      "Epoch 3/20\n",
      "20/20 [==============================] - 12s 584ms/step - loss: 0.6841 - acc: 0.5725 - val_loss: 0.6956 - val_acc: 0.5000\n",
      "Epoch 4/20\n",
      "20/20 [==============================] - 11s 574ms/step - loss: 0.6752 - acc: 0.6200 - val_loss: 0.7126 - val_acc: 0.5000\n",
      "Epoch 5/20\n",
      "20/20 [==============================] - 11s 557ms/step - loss: 0.6711 - acc: 0.5825 - val_loss: 0.6835 - val_acc: 0.5020\n",
      "Epoch 6/20\n",
      "20/20 [==============================] - 11s 541ms/step - loss: 0.6676 - acc: 0.5725 - val_loss: 0.6587 - val_acc: 0.6260\n",
      "Epoch 7/20\n",
      "20/20 [==============================] - 11s 577ms/step - loss: 0.6416 - acc: 0.6275 - val_loss: 0.6566 - val_acc: 0.5870\n",
      "Epoch 8/20\n",
      "20/20 [==============================] - 11s 559ms/step - loss: 0.6365 - acc: 0.6275 - val_loss: 0.6486 - val_acc: 0.6180\n",
      "Epoch 9/20\n",
      "20/20 [==============================] - 11s 582ms/step - loss: 0.6338 - acc: 0.6450 - val_loss: 0.6342 - val_acc: 0.6270\n",
      "Epoch 10/20\n",
      "20/20 [==============================] - 11s 579ms/step - loss: 0.6135 - acc: 0.6875 - val_loss: 0.6212 - val_acc: 0.6660\n",
      "Epoch 11/20\n",
      "20/20 [==============================] - 12s 604ms/step - loss: 0.6110 - acc: 0.6475 - val_loss: 0.6256 - val_acc: 0.6580\n",
      "Epoch 12/20\n",
      "20/20 [==============================] - 11s 579ms/step - loss: 0.5981 - acc: 0.6800 - val_loss: 0.6897 - val_acc: 0.5920\n",
      "Epoch 13/20\n",
      "20/20 [==============================] - 12s 601ms/step - loss: 0.6095 - acc: 0.6575 - val_loss: 0.6148 - val_acc: 0.6590\n",
      "Epoch 14/20\n",
      "20/20 [==============================] - 12s 605ms/step - loss: 0.5693 - acc: 0.7025 - val_loss: 0.7674 - val_acc: 0.5720\n",
      "Epoch 15/20\n",
      "20/20 [==============================] - 11s 568ms/step - loss: 0.5847 - acc: 0.6850 - val_loss: 0.6338 - val_acc: 0.6300\n",
      "Epoch 16/20\n",
      "20/20 [==============================] - 11s 566ms/step - loss: 0.5351 - acc: 0.7225 - val_loss: 0.6419 - val_acc: 0.6410\n",
      "Epoch 17/20\n",
      "20/20 [==============================] - 12s 592ms/step - loss: 0.5920 - acc: 0.6950 - val_loss: 0.6177 - val_acc: 0.6570\n",
      "Epoch 18/20\n",
      "20/20 [==============================] - 12s 627ms/step - loss: 0.5686 - acc: 0.7175 - val_loss: 0.6362 - val_acc: 0.6350\n",
      "Epoch 19/20\n",
      "20/20 [==============================] - 12s 619ms/step - loss: 0.5553 - acc: 0.7275 - val_loss: 0.6122 - val_acc: 0.6640\n",
      "Epoch 20/20\n",
      "20/20 [==============================] - 12s 598ms/step - loss: 0.5430 - acc: 0.7125 - val_loss: 0.6020 - val_acc: 0.6670\n"
     ]
    }
   ],
   "source": [
    "history = model.fit(\n",
    "            train_generator,\n",
    "            steps_per_epoch=20,\n",
    "            epochs=20,\n",
    "            validation_data=validation_generator,\n",
    "            validation_steps=50)"
   ]
  },
  {
   "cell_type": "code",
   "execution_count": 12,
   "metadata": {},
   "outputs": [
    {
     "data": {
      "image/png": "[encoded data removed]",
      "text/plain": [
       "<Figure size 864x864 with 1 Axes>"
      ]
     },
     "metadata": {
      "needs_background": "light"
     },
     "output_type": "display_data"
    }
   ],
   "source": [
    "pd.DataFrame(history.history).plot(figsize=(12,12))\n",
    "plt.grid(True)\n",
    "plt.gca().set_ylim(0,1)\n",
    "plt.show()"
   ]
  },
  {
   "cell_type": "code",
   "execution_count": 13,
   "metadata": {},
   "outputs": [],
   "source": [
    "model.save('DogCatModel.h5')"
   ]
  },
  {
   "cell_type": "code",
   "execution_count": 14,
   "metadata": {},
   "outputs": [],
   "source": [
    "del model\n",
    "keras.backend.clear_session()"
   ]
  },
  {
   "cell_type": "markdown",
   "metadata": {},
   "source": [
    "# Data Augmentation"
   ]
  },
  {
   "cell_type": "code",
   "execution_count": null,
   "metadata": {},
   "outputs": [],
   "source": [
    "train_datagen = ImageDataGenerator(\n",
    "rescale = 1./255,\n",
    "rotation_range=-40,\n",
    "width_shift_range=0.2,\n",
    "height_shift_range=0.2,\n",
    "shear_range=0.2,\n",
    "zoom_range = 0.2,\n",
    "horizontal_flip=True,)\n",
    "\n",
    "test_datagen = ImageDataGenerator(rescale=1./255)\n",
    "\n",
    "train_generator = train_datagen.flow_from_directory(\n",
    "                    train_dir,\n",
    "                    target_size=(150,150),\n",
    "                    batch_size=32,\n",
    "                    class_mode='binary'\n",
    ")\n",
    "\n",
    "validation_generator =test_datagen.flow_from_directory(\n",
    "                    validation_dir,\n",
    "                    target_size=(150,150),\n",
    "                    batch_size=32,\n",
    "                    class_mode='binary'\n",
    ")"
   ]
  },
  {
   "cell_type": "code",
   "execution_count": null,
   "metadata": {},
   "outputs": [],
   "source": [
    "model = keras.models.Sequential()\n",
    "model.add(keras.layers.Conv2D(32,(3,3),activation='relu',input_shape=(150,150,3)))\n",
    "model.add(keras.layers.MaxPooling2D((2,2)))\n",
    "\n",
    "model.add(keras.layers.Conv2D(64,(3,3),activation='relu'))\n",
    "model.add(keras.layers.MaxPooling2D((2,2)))\n",
    "\n",
    "model.add(keras.layers.Conv2D(128,(3,3),activation='relu'))\n",
    "model.add(keras.layers.MaxPooling2D((2,2)))\n",
    "\n",
    "model.add(keras.layers.Conv2D(128,(3,3),activation='relu'))\n",
    "model.add(keras.layers.MaxPooling2D((2,2)))\n",
    "\n",
    "model.add(keras.layers.Flatten())\n",
    "model.add(keras.layers.Dropout(0.5))\n",
    "\n",
    "model.add(keras.layers.Dense(512,activation='relu'))\n",
    "model.add(keras.layers.Dense(1,activation='sigmoid'))"
   ]
  },
  {
   "cell_type": "code",
   "execution_count": null,
   "metadata": {},
   "outputs": [],
   "source": [
    "model.compile(loss = 'binary_crossentropy',optimizer = keras.optimizers.RMSprop(learning_rate=1e-4),metrics = ['acc'])"
   ]
  },
  {
   "cell_type": "code",
   "execution_count": null,
   "metadata": {},
   "outputs": [],
   "source": [
    "history = model.fit(\n",
    "            train_generator,\n",
    "            steps_per_epoch=10,\n",
    "            epochs=10,\n",
    "            validation_data=validation_generator,\n",
    "            validation_steps=50)"
   ]
  },
  {
   "cell_type": "code",
   "execution_count": null,
   "metadata": {},
   "outputs": [],
   "source": [
    "pd.DataFrame(history.history).plot(figsize=(12,12))\n",
    "plt.grid(True)\n",
    "plt.gca().set_ylim(0,1)\n",
    "plt.show()"
   ]
  },
  {
   "cell_type": "code",
   "execution_count": null,
   "metadata": {},
   "outputs": [],
   "source": [
    "model.save('DogCatModelDataAug.h5')"
   ]
  },
  {
   "cell_type": "markdown",
   "metadata": {},
   "source": [
    "# Transfer Learning"
   ]
  },
  {
   "cell_type": "code",
   "execution_count": null,
   "metadata": {},
   "outputs": [],
   "source": [
    "train_datagen = ImageDataGenerator(\n",
    "rescale = 1./255,\n",
    "rotation_range=-40,\n",
    "width_shift_range=0.2,\n",
    "height_shift_range=0.2,\n",
    "shear_range=0.2,\n",
    "zoom_range = 0.2,\n",
    "horizontal_flip=True,)\n",
    "\n",
    "test_datagen = ImageDataGenerator(rescale=1./255)\n",
    "\n",
    "train_generator = train_datagen.flow_from_directory(\n",
    "                    train_dir,\n",
    "                    target_size=(150,150),\n",
    "                    batch_size=32,\n",
    "                    class_mode='binary'\n",
    ")\n",
    "\n",
    "validation_generator =test_datagen.flow_from_directory(\n",
    "                    validation_dir,\n",
    "                    target_size=(150,150),\n",
    "                    batch_size=32,\n",
    "                    class_mode='binary'\n",
    ")"
   ]
  },
  {
   "cell_type": "code",
   "execution_count": null,
   "metadata": {},
   "outputs": [],
   "source": [
    "from tensorflow.keras.applications import VGG16\n",
    "\n",
    "conv_base = VGG16(weights='imagenet',include_top=False,input_shape=(150,150,3))\n",
    "conv_base.trainable = False"
   ]
  },
  {
   "cell_type": "code",
   "execution_count": null,
   "metadata": {},
   "outputs": [],
   "source": [
    "conv_base.summary()"
   ]
  },
  {
   "cell_type": "code",
   "execution_count": null,
   "metadata": {},
   "outputs": [],
   "source": [
    "model = keras.models.Sequential()\n",
    "model.add(conv_base)\n",
    "model.add(keras.layers.Flatten())\n",
    "model.add(keras.layers.Dense(512,activation='relu'))\n",
    "model.add(keras.layers.Dense(1,activation='sigmoid'))"
   ]
  },
  {
   "cell_type": "code",
   "execution_count": null,
   "metadata": {},
   "outputs": [],
   "source": [
    "model.summary()"
   ]
  },
  {
   "cell_type": "code",
   "execution_count": null,
   "metadata": {},
   "outputs": [],
   "source": [
    "model.compile(loss = 'binary_crossentropy',optimizer = keras.optimizers.RMSprop(learning_rate=1e-4),metrics = ['acc'])"
   ]
  },
  {
   "cell_type": "code",
   "execution_count": null,
   "metadata": {},
   "outputs": [],
   "source": [
    "checkpoint_cb = keras.callbacks.ModelCheckpoint(\"CNN Project Model - {epoch:02d}.h5 \",save_best_only=True)"
   ]
  },
  {
   "cell_type": "code",
   "execution_count": null,
   "metadata": {},
   "outputs": [],
   "source": [
    "test_generator = test_datagen.flow_from_directory(\n",
    "test_dir,\n",
    "target_size=(150,150),\n",
    "batch_size=50,\n",
    "class_mode='binary')"
   ]
  },
  {
   "cell_type": "code",
   "execution_count": null,
   "metadata": {},
   "outputs": [],
   "source": [
    "history = model.fit(\n",
    "            train_generator,\n",
    "            steps_per_epoch=10,\n",
    "            epochs=10,\n",
    "            validation_data=validation_generator,\n",
    "            validation_steps=100,\n",
    "            callbacks=[checkpoint_cb])"
   ]
  },
  {
   "cell_type": "code",
   "execution_count": null,
   "metadata": {},
   "outputs": [],
   "source": [
    "pd.DataFrame(history.history).plot(figsize=(12,12))\n",
    "plt.grid(True)\n",
    "plt.gca().set_ylim(0,1)\n",
    "plt.show()"
   ]
  },
  {
   "cell_type": "code",
   "execution_count": null,
   "metadata": {},
   "outputs": [],
   "source": [
    "model.save('DogCatModelTransferLearn.h5')"
   ]
  },
  {
   "cell_type": "code",
   "execution_count": null,
   "metadata": {},
   "outputs": [],
   "source": [
    "model.evaluate_generator(test_generator,steps=50)"
   ]
  },
  {
   "cell_type": "code",
   "execution_count": null,
   "metadata": {},
   "outputs": [],
   "source": []
  },
  {
   "cell_type": "code",
   "execution_count": null,
   "metadata": {},
   "outputs": [],
   "source": []
  },
  {
   "cell_type": "code",
   "execution_count": null,
   "metadata": {},
   "outputs": [],
   "source": []
  }
 ],
 "metadata": {
  "kernelspec": {
   "display_name": "Python 3 (ipykernel)",
   "language": "python",
   "name": "python3"
  },
  "language_info": {
   "codemirror_mode": {
    "name": "ipython",
    "version": 3
   },
   "file_extension": ".py",
   "mimetype": "text/x-python",
   "name": "python",
   "nbconvert_exporter": "python",
   "pygments_lexer": "ipython3",
   "version": "3.8.12"
  }
 },
 "nbformat": 4,
 "nbformat_minor": 4
}
